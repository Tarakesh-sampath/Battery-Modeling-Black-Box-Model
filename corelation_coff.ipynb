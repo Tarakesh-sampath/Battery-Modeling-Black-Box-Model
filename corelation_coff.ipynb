{
 "cells": [
  {
   "cell_type": "markdown",
   "id": "b57a4abd",
   "metadata": {},
   "source": [
    "# Importing required libraryes"
   ]
  },
  {
   "cell_type": "code",
   "execution_count": 25,
   "id": "4ba269cc",
   "metadata": {},
   "outputs": [],
   "source": [
    "import pandas as pd\n",
    "import numpy as np\n",
    "import matplotlib.pyplot as plt\n",
    "import seaborn as sns\n",
    "import scipy.stats as st"
   ]
  },
  {
   "cell_type": "markdown",
   "id": "8274bdd7",
   "metadata": {},
   "source": [
    "# Loading data"
   ]
  },
  {
   "cell_type": "code",
   "execution_count": 26,
   "id": "e60ac79f",
   "metadata": {},
   "outputs": [],
   "source": [
    "#loading data\n",
    "file_1=\"Dataset/B0005_char_dataset.csv\"\n",
    "dataset=pd.read_csv(file_1)"
   ]
  },
  {
   "cell_type": "markdown",
   "id": "895a0529",
   "metadata": {},
   "source": [
    "# Corrections"
   ]
  },
  {
   "cell_type": "code",
   "execution_count": 27,
   "id": "b1c57622",
   "metadata": {},
   "outputs": [],
   "source": [
    "#removing 170 th cycle it only has 5 rows in total\n",
    "dataset=dataset.iloc[:541168]\n",
    "\n",
    "#renaming columns for simplicity\n",
    "dataset.columns=['cycle','voltage', 'current','temperature', 'Current', 'Voltage',\"time\"]\n",
    "\n",
    "#removing discharge current rows/avoiding negative current\n",
    "df=dataset[dataset[\"current\"]>=0.02].reset_index(drop=True)\n",
    "\n",
    "# converting time seconds->hour\n",
    "df[\"time\"]=df[\"time\"]/3600"
   ]
  },
  {
   "cell_type": "markdown",
   "id": "f3b41850",
   "metadata": {},
   "source": [
    "# Understanding"
   ]
  },
  {
   "cell_type": "code",
   "execution_count": 28,
   "id": "0d3731a6",
   "metadata": {},
   "outputs": [
    {
     "data": {
      "text/plain": [
       "count    506531.000000\n",
       "mean          4.156229\n",
       "std           0.098399\n",
       "min           3.434644\n",
       "25%           4.173178\n",
       "50%           4.205399\n",
       "75%           4.206028\n",
       "max           4.313703\n",
       "Name: voltage, dtype: float64"
      ]
     },
     "execution_count": 28,
     "metadata": {},
     "output_type": "execute_result"
    }
   ],
   "source": [
    "df[\"voltage\"].describe()"
   ]
  },
  {
   "cell_type": "markdown",
   "id": "ca62c1e7",
   "metadata": {},
   "source": [
    "### voltage -Volt\n",
    "### current -Amps\n",
    "### Time    -hour"
   ]
  },
  {
   "cell_type": "code",
   "execution_count": 29,
   "id": "a81c3539",
   "metadata": {},
   "outputs": [],
   "source": [
    "#max 2 Ah from dischrage dataset\n",
    "C_max=2"
   ]
  },
  {
   "cell_type": "markdown",
   "id": "65a74737",
   "metadata": {},
   "source": [
    "# preprocessing\n",
    "### Here we use columb counting method to make data frame"
   ]
  },
  {
   "cell_type": "code",
   "execution_count": 30,
   "id": "c3abc866",
   "metadata": {},
   "outputs": [],
   "source": [
    "#calculate soc for each cycle\n",
    "cycle_count=df[\"cycle\"].unique()\n",
    "soc_list=[]\n",
    "# Update SOC for each reading within each cycle using Coulomb counting\n",
    "for cycle in cycle_count:\n",
    "    cycle_data = df[df['cycle'] == cycle]\n",
    "    \n",
    "    cumulative_soc = [0.0]\n",
    "    \n",
    "    for i in range(1, len(cycle_data)):\n",
    "        \n",
    "        delta_time = cycle_data['time'].iloc[i] - cycle_data['time'].iloc[i-1]\n",
    "        \n",
    "        delta_charge = cycle_data['current'].iloc[i] * delta_time\n",
    "        \n",
    "        cumulative_soc.append(cumulative_soc[-1] +delta_charge)\n",
    "        \n",
    "    soc_list.extend(cumulative_soc)\n",
    "    \n",
    "soc = [(q / C_max) for q in soc_list]\n",
    "\n",
    "df[\"Soc\"]=soc\n",
    "tp=['cycle','temperature', \"Current\", \"Voltage\",\"time\",\"Soc\"]\n",
    "df=df[tp]"
   ]
  },
  {
   "cell_type": "code",
   "execution_count": 31,
   "id": "3965672d",
   "metadata": {},
   "outputs": [],
   "source": [
    "cor = df.corr()"
   ]
  },
  {
   "cell_type": "code",
   "execution_count": 32,
   "id": "4309e72c",
   "metadata": {},
   "outputs": [
    {
     "data": {
      "text/plain": [
       "<Axes: >"
      ]
     },
     "execution_count": 32,
     "metadata": {},
     "output_type": "execute_result"
    },
    {
     "data": {
      "image/png": "[encoded data removed]",
      "text/plain": [
       "<Figure size 1000x600 with 2 Axes>"
      ]
     },
     "metadata": {},
     "output_type": "display_data"
    }
   ],
   "source": [
    "plt.figure(figsize=(10,6))  #select value out of range(0.05,-0.05)\n",
    "sns.heatmap(cor[[\"Voltage\"]],annot=True,cmap='coolwarm')"
   ]
  },
  {
   "cell_type": "code",
   "execution_count": null,
   "id": "031f0ad3",
   "metadata": {},
   "outputs": [],
   "source": [
    "#choosable parameters from the above graph Voltage,[time,current]"
   ]
  },
  {
   "cell_type": "code",
   "execution_count": null,
   "id": "aa429664",
   "metadata": {},
   "outputs": [],
   "source": [
    "from sklearn.feature_selection import mutual_info_regression"
   ]
  },
  {
   "cell_type": "code",
   "execution_count": null,
   "id": "489f8cb5",
   "metadata": {},
   "outputs": [],
   "source": [
    "def make_mi_scores(X, y):\n",
    "    mi_scores = mutual_info_regression(X, y,)\n",
    "    mi_scores = pd.Series(mi_scores, name=\"MI Scores\", index=X.columns)\n",
    "    mi_scores = mi_scores.sort_values(ascending=False)\n",
    "    return mi_scores"
   ]
  },
  {
   "cell_type": "code",
   "execution_count": null,
   "id": "a2e517d1",
   "metadata": {},
   "outputs": [],
   "source": [
    "mi_scores = make_mi_scores(df[['cycle','voltage', 'current','temperature', 'current_charge',\"time\",\"Soc\"]],df[[\"voltage_charge\"]])"
   ]
  },
  {
   "cell_type": "code",
   "execution_count": null,
   "id": "06d1f557",
   "metadata": {},
   "outputs": [],
   "source": [
    "mi_scores"
   ]
  },
  {
   "cell_type": "code",
   "execution_count": null,
   "id": "38e42d6e",
   "metadata": {},
   "outputs": [],
   "source": [
    "def plot_mi_scores(scores):\n",
    "    plt.figure(dpi=200, figsize=(12, 5))\n",
    "    scores = scores.sort_values(ascending=True)\n",
    "    width = np.arange(len(scores))\n",
    "    ticks = list(scores.index)\n",
    "    plt.barh(width, scores)\n",
    "    plt.yticks(width, ticks)\n",
    "    plt.title(\"Mutual Information Scores\")\n",
    "    for index, value in enumerate(scores):\n",
    "        plt.text(value, index,str(round(value,3)))\n",
    "plot_mi_scores(mi_scores)"
   ]
  },
  {
   "cell_type": "code",
   "execution_count": null,
   "id": "f50cead4",
   "metadata": {},
   "outputs": [],
   "source": [
    "#voltage and time"
   ]
  },
  {
   "cell_type": "code",
   "execution_count": null,
   "id": "7d6c46ab",
   "metadata": {},
   "outputs": [],
   "source": []
  },
  {
   "cell_type": "code",
   "execution_count": null,
   "id": "2167ea9a",
   "metadata": {},
   "outputs": [],
   "source": []
  },
  {
   "cell_type": "code",
   "execution_count": null,
   "id": "7401f1f6",
   "metadata": {},
   "outputs": [],
   "source": []
  }
 ],
 "metadata": {
  "kernelspec": {
   "display_name": "Python 3 (ipykernel)",
   "language": "python",
   "name": "python3"
  },
  "language_info": {
   "codemirror_mode": {
    "name": "ipython",
    "version": 3
   },
   "file_extension": ".py",
   "mimetype": "text/x-python",
   "name": "python",
   "nbconvert_exporter": "python",
   "pygments_lexer": "ipython3",
   "version": "3.10.13"
  }
 },
 "nbformat": 4,
 "nbformat_minor": 5
}
